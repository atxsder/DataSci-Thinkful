{
 "cells": [
  {
   "cell_type": "code",
   "execution_count": 3,
   "metadata": {
    "collapsed": false
   },
   "outputs": [],
   "source": [
    "import numpy as np\n",
    "import pandas as pd\n",
    "from sklearn.linear_model import LinearRegression\n",
    "\n",
    "loansData = pd.read_csv('https://spark-public.s3.amazonaws.com/dataanalysis/loansData.csv')\n",
    "\n",
    "loansData['Interest.Rate'] = [float(interest[0:-1])/100 for interest in loansData['Interest.Rate']]\n",
    "\n",
    "loansData['Loan.Length'] = [int(length[0:-7]) for length in loansData['Loan.Length']]\n",
    "\n",
    "loansData['FICO.Score'] = [int(val.split('-')[0]) for val in loansData['FICO.Range']]\n",
    "\n",
    "intrate = loansData['Interest.Rate']\n",
    "loanamt = loansData['Amount.Requested']\n",
    "fico = loansData['FICO.Score']\n",
    "\n",
    "#Feature selection\n",
    "feature_cols = ['Amount.Requested', 'FICO.Score']\n",
    "\n",
    "# The dependent variable\n",
    "y = loansData['Interest.Rate']\n",
    "\n",
    "# The independent variables shaped as columns\n",
    "x = loansData[feature_cols]"
   ]
  },
  {
   "cell_type": "code",
   "execution_count": 6,
   "metadata": {
    "collapsed": false
   },
   "outputs": [
    {
     "name": "stdout",
     "output_type": "stream",
     "text": [
      "0.000601329025629\n"
     ]
    }
   ],
   "source": [
    "from sklearn.cross_validation import cross_val_score\n",
    "\n",
    "lm = LinearRegression()\n",
    "score = cross_val_score(lm, x, y, cv=10, scoring='mean_squared_error')\n",
    "mse_score = -score\n",
    "print mse_score.mean()"
   ]
  },
  {
   "cell_type": "code",
   "execution_count": 15,
   "metadata": {
    "collapsed": false
   },
   "outputs": [
    {
     "name": "stdout",
     "output_type": "stream",
     "text": [
      "0.0194119197599\n"
     ]
    }
   ],
   "source": [
    "lm = LinearRegression()\n",
    "score = cross_val_score(lm, x, y, cv=10, scoring='mean_absolute_error')\n",
    "mae_score = -score\n",
    "print mae_score.mean()"
   ]
  },
  {
   "cell_type": "code",
   "execution_count": 13,
   "metadata": {
    "collapsed": false
   },
   "outputs": [
    {
     "name": "stdout",
     "output_type": "stream",
     "text": [
      "0.653129530565\n"
     ]
    }
   ],
   "source": [
    "lm = LinearRegression()\n",
    "score = cross_val_score(lm, x, y, cv=10, scoring='r2')\n",
    "print score.mean()"
   ]
  },
  {
   "cell_type": "code",
   "execution_count": null,
   "metadata": {
    "collapsed": true
   },
   "outputs": [],
   "source": []
  }
 ],
 "metadata": {
  "kernelspec": {
   "display_name": "Python 2",
   "language": "python",
   "name": "python2"
  },
  "language_info": {
   "codemirror_mode": {
    "name": "ipython",
    "version": 2
   },
   "file_extension": ".py",
   "mimetype": "text/x-python",
   "name": "python",
   "nbconvert_exporter": "python",
   "pygments_lexer": "ipython2",
   "version": "2.7.10"
  }
 },
 "nbformat": 4,
 "nbformat_minor": 0
}
