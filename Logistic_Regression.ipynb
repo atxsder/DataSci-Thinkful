{
 "cells": [
  {
   "cell_type": "code",
   "execution_count": 44,
   "metadata": {
    "collapsed": false
   },
   "outputs": [
    {
     "name": "stdout",
     "output_type": "stream",
     "text": [
      "Optimization terminated successfully.\n",
      "         Current function value: 0.319503\n",
      "         Iterations 8\n"
     ]
    }
   ],
   "source": [
    "import numpy as np\n",
    "import pandas as pd\n",
    "import statsmodels.api as sm\n",
    "import matplotlib.pyplot as plt\n",
    "\n",
    "def modify_df(loansData):\n",
    "    clean_interest_rate = loansData['Interest.Rate'].map(lambda x: round(float(x.rstrip('%')) / 100, 4))\n",
    "    loansData['Interest.Rate'] = clean_interest_rate\n",
    "    cleanLoanLength = loansData['Loan.Length'].map(lambda x: int(x.rstrip(' months')))\n",
    "    loansData['Loan.Length'] = cleanLoanLength\n",
    "    cleanFICORange = loansData['FICO.Range'].map(lambda x: x.split('-'))\n",
    "    cleanFICORange = cleanFICORange.map(lambda x: int(x[0]))\n",
    "    loansData['FICO.Score'] = cleanFICORange\n",
    "    irtf = loansData['Interest.Rate'] >= .12\n",
    "    irtf = irtf.astype(int)\n",
    "    loansData['IR_TF'] = irtf\n",
    "    loansData = sm.add_constant(loansData)\n",
    "    loansData2 = loansData\n",
    "    return loansData2\n",
    "\n",
    "def define_logistic_model():\n",
    "    ind_vars = ['const', 'FICO.Score','Amount.Requested']\n",
    "    logit = sm.Logit(loansData2['IR_TF'], loansData2[ind_vars])\n",
    "    result = logit.fit()\n",
    "    coeff = result.params\n",
    "    return coeff\n",
    "    \n",
    "def logistic_function(coeff, score, amount):\n",
    "    getLoan = 1/ (1 + np.exp(-(coeff[0] + coeff[1] * score + coeff[2] * amount)))\n",
    "    return getLoan\n",
    "\n",
    "loansData = pd.read_csv('https://spark-public.s3.amazonaws.com/dataanalysis/loansData.csv')\n",
    "loansData2 = modify_df(loansData)\n",
    "loansData2.to_csv('loansData_clean.csv', header=True, index=False)\n",
    "\n",
    "coeff = define_logistic_model()\n",
    "\n",
    "x = np.linspace(min(loansData2['FICO.Score']), min(loansData2['FICO.Score']), 500)\n",
    "y = np.linspace(min(loansData2['Amount.Requested']), min(loansData2['Amount.Requested']), 500)\n",
    "\n",
    "'''fico_IRTF0 = loansData2.loc[loansData2['IR_TF']==0, 'FICO.Score']\n",
    "fico_IRTF1 = loansData2.loc[loansData2['IR_TF']==1, 'FICO.Score']\n",
    "\n",
    "loanamt_IRTF0 = loansData2.loc[loansData2['IR_TF']==0, 'Amount.Requested']\n",
    "loanamt_IRTF1 = loansData2.loc[loansData2['IR_TF']==1, 'Amount.Requested']'''\n",
    "\n",
    "plt.plot(x,logistic_function(coeff,x,y))\n",
    "\n",
    "plt.show()"
   ]
  },
  {
   "cell_type": "code",
   "execution_count": null,
   "metadata": {
    "collapsed": false
   },
   "outputs": [],
   "source": []
  },
  {
   "cell_type": "code",
   "execution_count": null,
   "metadata": {
    "collapsed": true
   },
   "outputs": [],
   "source": []
  }
 ],
 "metadata": {
  "kernelspec": {
   "display_name": "Python 2",
   "language": "python",
   "name": "python2"
  },
  "language_info": {
   "codemirror_mode": {
    "name": "ipython",
    "version": 2
   },
   "file_extension": ".py",
   "mimetype": "text/x-python",
   "name": "python",
   "nbconvert_exporter": "python",
   "pygments_lexer": "ipython2",
   "version": "2.7.10"
  }
 },
 "nbformat": 4,
 "nbformat_minor": 0
}
