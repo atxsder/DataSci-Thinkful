{
 "cells": [
  {
   "cell_type": "code",
   "execution_count": 17,
   "metadata": {
    "collapsed": false
   },
   "outputs": [
    {
     "name": "stdout",
     "output_type": "stream",
     "text": [
      "The probability after 2 transitions is...\n",
      " [[ 0.755     0.20875   0.3875  ]\n",
      " [ 0.1925    0.731875  0.34375 ]\n",
      " [ 0.0525    0.059375  0.26875 ]]\n",
      "\n",
      "\n",
      "The probability after 5 transitions is...\n",
      " [[ 0.38472039  0.60421381  0.47521699]\n",
      " [ 0.54355691  0.32902491  0.43440576]\n",
      " [ 0.0717227   0.06676128  0.09037725]]\n",
      "\n",
      "\n",
      "The probability after 20 transitions is...\n",
      " [[ 0.48902747  0.48679223  0.4879913 ]\n",
      " [ 0.44013879  0.44232792  0.44115339]\n",
      " [ 0.07083374  0.07087986  0.07085531]]\n",
      "\n",
      "\n",
      "The probability after 50 transitions is...\n",
      " [[ 0.48796802  0.48796779  0.48796792]\n",
      " [ 0.44117636  0.44117659  0.44117647]\n",
      " [ 0.07085561  0.07085562  0.07085561]]\n",
      "\n",
      "\n",
      "The probability after 100 transitions is...\n",
      " [[ 0.48796791  0.48796791  0.48796791]\n",
      " [ 0.44117647  0.44117647  0.44117647]\n",
      " [ 0.07085561  0.07085561  0.07085561]]\n",
      "\n",
      "\n"
     ]
    },
    {
     "ename": "NameError",
     "evalue": "global name 'final_state' is not defined",
     "output_type": "error",
     "traceback": [
      "\u001b[1;31m---------------------------------------------------------------------------\u001b[0m",
      "\u001b[1;31mNameError\u001b[0m                                 Traceback (most recent call last)",
      "\u001b[1;32m<ipython-input-17-9605800e9e96>\u001b[0m in \u001b[0;36m<module>\u001b[1;34m()\u001b[0m\n\u001b[0;32m     16\u001b[0m \u001b[1;31m# How do I determine what the start state is?  Does it matter for this practice problem?\u001b[0m\u001b[1;33m\u001b[0m\u001b[1;33m\u001b[0m\u001b[0m\n\u001b[0;32m     17\u001b[0m \u001b[1;31m# bear = np.array([1, 0, 0]\u001b[0m\u001b[1;33m\u001b[0m\u001b[1;33m\u001b[0m\u001b[0m\n\u001b[1;32m---> 18\u001b[1;33m \u001b[0mresult\u001b[0m \u001b[1;33m=\u001b[0m \u001b[0mfind_trans_prob\u001b[0m\u001b[1;33m(\u001b[0m\u001b[0mdf\u001b[0m\u001b[1;33m,\u001b[0m \u001b[1;36m100\u001b[0m\u001b[1;33m)\u001b[0m\u001b[1;33m\u001b[0m\u001b[0m\n\u001b[0m\u001b[0;32m     19\u001b[0m \u001b[1;33m\u001b[0m\u001b[0m\n\u001b[0;32m     20\u001b[0m \u001b[1;32mprint\u001b[0m \u001b[0mresult\u001b[0m\u001b[1;33m\u001b[0m\u001b[0m\n",
      "\u001b[1;32m<ipython-input-17-9605800e9e96>\u001b[0m in \u001b[0;36mfind_trans_prob\u001b[1;34m(df, n)\u001b[0m\n\u001b[0;32m     12\u001b[0m             \u001b[1;32mprint\u001b[0m \u001b[1;34m'The probability after {0} transitions is...\\n {1}'\u001b[0m\u001b[1;33m.\u001b[0m\u001b[0mformat\u001b[0m\u001b[1;33m(\u001b[0m\u001b[0mi\u001b[0m\u001b[1;33m,\u001b[0m \u001b[0mnp\u001b[0m\u001b[1;33m.\u001b[0m\u001b[0mlinalg\u001b[0m\u001b[1;33m.\u001b[0m\u001b[0mmatrix_power\u001b[0m\u001b[1;33m(\u001b[0m\u001b[0mdf\u001b[0m\u001b[1;33m,\u001b[0m \u001b[0mi\u001b[0m\u001b[1;33m)\u001b[0m\u001b[1;33m)\u001b[0m\u001b[1;33m\u001b[0m\u001b[0m\n\u001b[0;32m     13\u001b[0m             \u001b[1;32mprint\u001b[0m \u001b[1;34m\"\\n\"\u001b[0m\u001b[1;33m\u001b[0m\u001b[0m\n\u001b[1;32m---> 14\u001b[1;33m     \u001b[1;32mreturn\u001b[0m \u001b[0mfinal_state\u001b[0m\u001b[1;33m\u001b[0m\u001b[0m\n\u001b[0m\u001b[0;32m     15\u001b[0m \u001b[1;33m\u001b[0m\u001b[0m\n\u001b[0;32m     16\u001b[0m \u001b[1;31m# How do I determine what the start state is?  Does it matter for this practice problem?\u001b[0m\u001b[1;33m\u001b[0m\u001b[1;33m\u001b[0m\u001b[0m\n",
      "\u001b[1;31mNameError\u001b[0m: global name 'final_state' is not defined"
     ]
    }
   ],
   "source": [
    "import pandas as pd\n",
    "import numpy as np\n",
    "\n",
    "df = pd.DataFrame({'Bull Market': [0.9, 0.075, 0.025], \n",
    "                   'Bear Market': [0.15, 0.8, 0.05],\n",
    "                   'Stagnant Market': [0.25, 0.25, 0.5]}, \n",
    "                  index=[\"Bull Market\", \"Bear Market\", \"Stagnant Market\"])\n",
    "\n",
    "def find_trans_prob(df, n):   \n",
    "    for i in range(2,101):\n",
    "        if (i == 2 or i == 5 or i == 20 or i == 50 or i == 100):\n",
    "            print 'The probability after {0} transitions is...\\n {1}'.format(i, np.linalg.matrix_power(df, i))\n",
    "            print \"\\n\"\n",
    "    return final_state\n",
    "\n",
    "# How do I determine what the start state is?  Does it matter for this practice problem?\n",
    "\n",
    "result = find_trans_prob(df, 100)\n",
    "                \n",
    "print result"
   ]
  },
  {
   "cell_type": "code",
   "execution_count": null,
   "metadata": {
    "collapsed": true
   },
   "outputs": [],
   "source": []
  }
 ],
 "metadata": {
  "kernelspec": {
   "display_name": "Python 2",
   "language": "python",
   "name": "python2"
  },
  "language_info": {
   "codemirror_mode": {
    "name": "ipython",
    "version": 2
   },
   "file_extension": ".py",
   "mimetype": "text/x-python",
   "name": "python",
   "nbconvert_exporter": "python",
   "pygments_lexer": "ipython2",
   "version": "2.7.10"
  }
 },
 "nbformat": 4,
 "nbformat_minor": 0
}
