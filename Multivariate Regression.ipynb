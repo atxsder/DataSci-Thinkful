{
 "cells": [
  {
   "cell_type": "markdown",
   "metadata": {
    "collapsed": false
   },
   "source": [
    "# Multivariate Analysis\n",
    "\n",
    "* Load the [Lending Club Statistics](https://www.lendingclub.com/info/download-data.action).\n",
    "* Use income, **annual_inc**, to model interest rates (int_rate).\n",
    "* Add **home ownership** (home_ownership) to the model."
   ]
  },
  {
   "cell_type": "code",
   "execution_count": 6,
   "metadata": {
    "collapsed": false
   },
   "outputs": [
    {
     "name": "stdout",
     "output_type": "stream",
     "text": [
      "                            OLS Regression Results                            \n",
      "==============================================================================\n",
      "Dep. Variable:               int_rate   R-squared:                       0.000\n",
      "Model:                            OLS   Adj. R-squared:                 -0.000\n",
      "Method:                 Least Squares   F-statistic:                    0.3764\n",
      "Date:                Sat, 07 May 2016   Prob (F-statistic):              0.540\n",
      "Time:                        13:42:48   Log-Likelihood:                 4390.2\n",
      "No. Observations:                2499   AIC:                            -8776.\n",
      "Df Residuals:                    2497   BIC:                            -8765.\n",
      "Df Model:                           1                                         \n",
      "Covariance Type:            nonrobust                                         \n",
      "==============================================================================\n",
      "                 coef    std err          t      P>|t|      [95.0% Conf. Int.]\n",
      "------------------------------------------------------------------------------\n",
      "const          0.1300      0.001     88.868      0.000         0.127     0.133\n",
      "annual_inc  1.078e-08   1.76e-08      0.614      0.540     -2.37e-08  4.53e-08\n",
      "==============================================================================\n",
      "Omnibus:                       69.811   Durbin-Watson:                   1.991\n",
      "Prob(Omnibus):                  0.000   Jarque-Bera (JB):               54.205\n",
      "Skew:                           0.274   Prob(JB):                     1.70e-12\n",
      "Kurtosis:                       2.531   Cond. No.                     1.46e+05\n",
      "==============================================================================\n",
      "\n",
      "Warnings:\n",
      "[1] Standard Errors assume that the covariance matrix of the errors is correctly specified.\n",
      "[2] The condition number is large, 1.46e+05. This might indicate that there are\n",
      "strong multicollinearity or other numerical problems.\n",
      "\n",
      "-------------------------------Model #2-----------------------------------------\n",
      "\n",
      "                            OLS Regression Results                            \n",
      "==============================================================================\n",
      "Dep. Variable:               int_rate   R-squared:                       0.006\n",
      "Model:                            OLS   Adj. R-squared:                  0.006\n",
      "Method:                 Least Squares   F-statistic:                     8.080\n",
      "Date:                Sat, 07 May 2016   Prob (F-statistic):           0.000318\n",
      "Time:                        13:42:48   Log-Likelihood:                 4398.1\n",
      "No. Observations:                2499   AIC:                            -8790.\n",
      "Df Residuals:                    2496   BIC:                            -8773.\n",
      "Df Model:                           2                                         \n",
      "Covariance Type:            nonrobust                                         \n",
      "======================================================================================\n",
      "                         coef    std err          t      P>|t|      [95.0% Conf. Int.]\n",
      "--------------------------------------------------------------------------------------\n",
      "const                  0.1253      0.002     66.762      0.000         0.122     0.129\n",
      "annual_inc          2.617e-08   1.79e-08      1.458      0.145     -9.02e-09  6.14e-08\n",
      "home_ownership_ord     0.0018      0.000      3.973      0.000         0.001     0.003\n",
      "==============================================================================\n",
      "Omnibus:                       67.058   Durbin-Watson:                   1.993\n",
      "Prob(Omnibus):                  0.000   Jarque-Bera (JB):               54.073\n",
      "Skew:                           0.282   Prob(JB):                     1.81e-12\n",
      "Kurtosis:                       2.551   Cond. No.                     1.89e+05\n",
      "==============================================================================\n",
      "\n",
      "Warnings:\n",
      "[1] Standard Errors assume that the covariance matrix of the errors is correctly specified.\n",
      "[2] The condition number is large, 1.89e+05. This might indicate that there are\n",
      "strong multicollinearity or other numerical problems.\n"
     ]
    }
   ],
   "source": [
    "import pandas as pd\n",
    "import statsmodels.api as sm\n",
    "import statsmodels.formula.api as smf\n",
    "import matplotlib.pyplot as plt \n",
    "\n",
    "# Load Data into Pandas DataFrame\n",
    "loans = pd.read_csv(\"https://spark-public.s3.amazonaws.com/dataanalysis/loansData.csv\")\n",
    "loans2 = pd.DataFrame(columns=['int_rate', 'annual_inc', 'home_ownership_ord'])\n",
    "\n",
    "# Pre-process data\n",
    "intrate = loans['Interest.Rate'].map(lambda x: round(float(x.rstrip('%'))/100,4))\n",
    "income = loans['Monthly.Income'].map(lambda x: x * 12)\n",
    "ownership = pd.Categorical(loans['Home.Ownership']).codes\n",
    "\n",
    "# Assign cleaned data to DataFrame columns\n",
    "loans2['int_rate'] = intrate\n",
    "loans2['annual_inc'] = income\n",
    "loans2['home_ownership_ord'] = ownership\n",
    "\n",
    "# Add interaction term\n",
    "loans2 = sm.add_constant(loans2)\n",
    "loans2['Interaction'] = loans2['annual_inc'] * loans2['home_ownership_ord']\n",
    "\n",
    "# Define Least Squares Model\n",
    "model = sm.OLS(loans2['int_rate'], loans2[['const', 'annual_inc']], missing='drop')\n",
    "result = model.fit()\n",
    "print (result.summary())\n",
    "\n",
    "print ('''\n",
    "-------------------------------Model #2-----------------------------------------\n",
    "''')\n",
    "\n",
    "model2 = sm.OLS(loans2['int_rate'], loans2[['const', 'annual_inc', 'home_ownership_ord']], missing='drop')\n",
    "result2 = model2.fit()\n",
    "print (result2.summary())"
   ]
  },
  {
   "cell_type": "code",
   "execution_count": null,
   "metadata": {
    "collapsed": true
   },
   "outputs": [],
   "source": []
  },
  {
   "cell_type": "code",
   "execution_count": null,
   "metadata": {
    "collapsed": true
   },
   "outputs": [],
   "source": []
  }
 ],
 "metadata": {
  "kernelspec": {
   "display_name": "Python 3",
   "language": "python",
   "name": "python3"
  },
  "language_info": {
   "codemirror_mode": {
    "name": "ipython",
    "version": 3
   },
   "file_extension": ".py",
   "mimetype": "text/x-python",
   "name": "python",
   "nbconvert_exporter": "python",
   "pygments_lexer": "ipython3",
   "version": "3.5.1"
  }
 },
 "nbformat": 4,
 "nbformat_minor": 0
}
