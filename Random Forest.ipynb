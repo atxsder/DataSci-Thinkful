{
 "cells": [
  {
   "cell_type": "code",
   "execution_count": 55,
   "metadata": {
    "collapsed": false
   },
   "outputs": [],
   "source": [
    "import string\n",
    "import csv\n",
    "\n",
    "def clean_string(s):\n",
    "    \"\"\"\n",
    "    Cleans column names from the features.txt file.\n",
    "    Rules for cleaning column names: \n",
    "    1. Remove parentheses\n",
    "    2. Remove dashes\n",
    "    3. Replace commas with underscores\n",
    "    \"\"\"\n",
    "\n",
    "    translations = string.maketrans(\",\", \"_\")\n",
    "    deletions = \"()-\"\n",
    "    return s.translate(translations, deletions)\n",
    "\n",
    "def clean_column_names(fname_in, fname_out):\n",
    "    \"\"\"\n",
    "    Cleans column names and writes to output file \n",
    "    \"\"\"\n",
    "    SPACE = \" \"\n",
    "    with open(fname_in, \"rb\") as f_in, open(fname_out, \"wb\") as f_out:\n",
    "        reader = csv.reader(f_in, delimiter=SPACE)\n",
    "        writer = csv.writer(f_out, delimiter=SPACE)\n",
    "        for line in reader:\n",
    "            writer.writerow([line[0], clean_string(line[1])])\n",
    "\n",
    "def main():\n",
    "    \"\"\"\n",
    "    Driver\n",
    "    \"\"\" \n",
    "    in_file = r'.\\features.txt'\n",
    "    out_file = r'.\\features_clean.txt'\n",
    "    clean_column_names(in_file, out_file)\n",
    "\n",
    "if __name__ == '__main__':\n",
    "    main()"
   ]
  },
  {
   "cell_type": "code",
   "execution_count": 57,
   "metadata": {
    "collapsed": false
   },
   "outputs": [],
   "source": [
    "import csv\n",
    "\n",
    "X_train = open(r'C:\\Users\\Russell Pekrul\\Downloads\\UCI HAR Dataset\\UCI HAR Dataset\\train\\X_train.txt', \"rb\").read().splitlines()\n",
    "y_train = open(r'C:\\Users\\Russell Pekrul\\Downloads\\UCI HAR Dataset\\UCI HAR Dataset\\train\\y_train.txt', \"rb\").read().splitlines()\n",
    "subject_train = open(r'C:\\Users\\Russell Pekrul\\Downloads\\UCI HAR Dataset\\UCI HAR Dataset\\train\\subject_train.txt', \"rb\").read().splitlines()\n",
    "\n",
    "X_test = open(r'C:\\Users\\Russell Pekrul\\Downloads\\UCI HAR Dataset\\UCI HAR Dataset\\test\\X_test.txt', \"rb\").read().splitlines()\n",
    "y_test = open(r'C:\\Users\\Russell Pekrul\\Downloads\\UCI HAR Dataset\\UCI HAR Dataset\\test\\y_test.txt', \"rb\").read().splitlines()\n",
    "subject_test = open(r'C:\\Users\\Russell Pekrul\\Downloads\\UCI HAR Dataset\\UCI HAR Dataset\\test\\subject_test.txt', \"rb\").read().splitlines()\n",
    "\n",
    "X_all = X_train + X_test\n",
    "y_all = y_train + y_test\n",
    "subject_all = subject_train + subject_test\n",
    "\n",
    "with    open(r'.\\X_all.txt', \"wb\") as Xf, \\\n",
    "            open(r'.\\y_all.txt', \"wb\") as yf, \\\n",
    "            open(r'.\\subject_all.txt', \"wb\") as sf:\n",
    "        X_writer = csv.writer(Xf)\n",
    "        y_writer = csv.writer(yf)\n",
    "        subject_writer = csv.writer(sf)\n",
    "\n",
    "        for xrow, yrow, srow in zip(X_all, y_all, subject_all):\n",
    "            X_writer.writerow([xrow])\n",
    "            y_writer.writerow([yrow])\n",
    "            subject_writer.writerow([srow])"
   ]
  },
  {
   "cell_type": "code",
   "execution_count": 58,
   "metadata": {
    "collapsed": false
   },
   "outputs": [
    {
     "name": "stdout",
     "output_type": "stream",
     "text": [
      "0.988552188552\n"
     ]
    }
   ],
   "source": [
    "import pandas as pd\n",
    "import numpy as np\n",
    "from sklearn.ensemble import RandomForestClassifier\n",
    "from sklearn.cross_validation import cross_val_score\n",
    "\n",
    "# read feature names\n",
    "feature_names = open(r'.\\features_clean.txt').read().splitlines()\n",
    "col_names = [f.split(\" \")[1] for f in feature_names]\n",
    "\n",
    "# Create data frames from combined data\n",
    "df_X = pd.read_csv(r'.\\X_all.txt', sep=\" *\", engine=\"python\", header=None, names=col_names)\n",
    "df_y = pd.read_csv(r'.\\y_all.txt', header=None, names=[\"activity\"])\n",
    "df_sub = pd.read_csv(r'.\\subject_all.txt', header=None, names=[\"subject\"])\n",
    "\n",
    "# Choose training, testing and validation data Scikit-learn doesnt natively\n",
    "# support pandas. So Convert training and testing sets into matrices  for\n",
    "# feeding to classifier algorithms\n",
    "\n",
    "training_set = df_sub[\"subject\"] >= 27\n",
    "test_set = df_sub[\"subject\"] <= 6\n",
    "cv_set = (df_sub[\"subject\"] >= 21) & (df_sub[\"subject\"] < 27)\n",
    "\n",
    "X_train = df_X[training_set].as_matrix()\n",
    "y_train = df_y[training_set].as_matrix().squeeze()\n",
    "\n",
    "X_test = df_X[test_set].as_matrix()\n",
    "y_test = df_y[test_set].as_matrix().squeeze()\n",
    "\n",
    "X_cv = df_X[cv_set].as_matrix()\n",
    "y_cv = df_y[cv_set].as_matrix().squeeze()\n",
    "\n",
    "clf = RandomForestClassifier(n_estimators=50, oob_score=True)\n",
    "clf.fit(X_train, y_train)\n",
    "print clf.oob_score_"
   ]
  },
  {
   "cell_type": "code",
   "execution_count": null,
   "metadata": {
    "collapsed": true
   },
   "outputs": [],
   "source": []
  }
 ],
 "metadata": {
  "kernelspec": {
   "display_name": "Python 2",
   "language": "python",
   "name": "python2"
  },
  "language_info": {
   "codemirror_mode": {
    "name": "ipython",
    "version": 2
   },
   "file_extension": ".py",
   "mimetype": "text/x-python",
   "name": "python",
   "nbconvert_exporter": "python",
   "pygments_lexer": "ipython2",
   "version": "2.7.10"
  }
 },
 "nbformat": 4,
 "nbformat_minor": 0
}
