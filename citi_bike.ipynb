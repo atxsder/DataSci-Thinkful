{
 "cells": [
  {
   "cell_type": "code",
   "execution_count": null,
   "metadata": {
    "collapsed": false
   },
   "outputs": [],
   "source": [
    "import sqlite3 as lite\n",
    "import requests\n",
    "from pandas.io.json import json_normalize\n",
    "import matplotlib.pyplot as plt\n",
    "import pandas as pd\n",
    "import time\n",
    "import datetime\n",
    "from dateutil.parser import parse \n",
    "import collections\n",
    "\n",
    "r = requests.get('http://www.citibikenyc.com/stations/json')\n",
    "df = json_normalize(r.json()['stationBeanList'])\n",
    "con = lite.connect('citi_bike.db')\n",
    "cur = con.cursor()\n",
    "\n",
    "def repeat_query():\n",
    "\n",
    "    r = requests.get('http://www.citibikenyc.com/stations/json')\n",
    "    exec_time = parse(r.json()['executionTime']).strftime(\"'%Y-%m-%d %H:%M:%S'\")\n",
    "    \n",
    "    for i in range(60):\n",
    "\n",
    "        cur.execute('INSERT INTO available_bikes (execution_time) VALUES (?)', (exec_time,))\n",
    "\n",
    "        for station in r.json()['stationBeanList']:\n",
    "            cur.execute(\"UPDATE available_bikes SET _%d = %d WHERE execution_time = %s\" % (station['id'], station['availableBikes'], exec_time))\n",
    "        con.commit()\n",
    "\n",
    "        time.sleep(60)\n",
    "\n",
    "    con.close()\n",
    "\n",
    "#----------------------------------------------------------------------------------------------------------------------------\n",
    "    \n",
    "with con:\n",
    "    cur.execute('''DROP TABLE citibike_reference''')\n",
    "    cur.execute('''DROP TABLE available_bikes''')\n",
    "    cur.execute('''CREATE TABLE citibike_reference (id INT PRIMARY KEY, totalDocks INT, city TEXT, altitude INT, stAddress2 TEXT, \n",
    "                longitude NUMERIC, postalCode TEXT, testStation TEXT, stAddress1 TEXT, stationName TEXT, landMark TEXT,\n",
    "                latitude NUMERIC, location TEXT )''')\n",
    "\n",
    "#a prepared SQL statement we're going to execute over and over again\n",
    "sql = '''INSERT INTO citibike_reference (id, totalDocks, city, altitude, stAddress2, longitude, \n",
    "postalCode, testStation, stAddress1, stationName, landMark, latitude, location) VALUES (?,?,?,?,?,?,?,?,?,?,?,?,?)'''\n",
    "\n",
    "#for loop to populate values in the database\n",
    "with con:\n",
    "    for station in r.json()['stationBeanList']:\n",
    "        #id, totalDocks, city, altitude, stAddress2, longitude, postalCode, testStation, stAddress1, stationName, landMark, latitude, location)\n",
    "        cur.execute(sql,(station['id'],station['totalDocks'],station['city'],\n",
    "        station['altitude'],station['stAddress2'],station['longitude'],station['postalCode'],\n",
    "        station['testStation'],station['stAddress1'],station['stationName'],station['landMark'],station['latitude'],\n",
    "        station['location']))\n",
    "        \n",
    "#extract the column from the DataFrame and put them into a list\n",
    "station_ids = df['id'].tolist() \n",
    "\n",
    "#add the '_' to the station name and also add the data type for SQLite\n",
    "station_ids = ['_' + str(x) + ' INT' for x in station_ids]\n",
    "\n",
    "#create the table - in this case, we're concatenating the string and joining all the station ids (now with '_' and 'INT' added)\n",
    "with con:\n",
    "    cur.execute(\"CREATE TABLE available_bikes ( execution_time INT, \" +  \", \".join(station_ids) + \");\")\n",
    "    \n",
    "#take the string and parse it into a Python datetime object\n",
    "exec_time = parse(r.json()['executionTime'])\n",
    "\n",
    "with con:\n",
    "    cur.execute('INSERT INTO available_bikes (execution_time) VALUES (?)', (exec_time.strftime('%Y-%m-%d %H:%M:%S'),))\n",
    "    \n",
    "id_bikes = collections.defaultdict(int) #defaultdict to store available bikes by station\n",
    "\n",
    "#loop through the stations in the station list\n",
    "for station in r.json()['stationBeanList']:\n",
    "    id_bikes[station['id']] = station['availableBikes']\n",
    "\n",
    "# iterate through the defaultdict to update the values in the database\n",
    "with con:\n",
    "    for k, v in id_bikes.iteritems():\n",
    "        cur.execute(\"UPDATE available_bikes SET _\" + str(k) + \" = \" + str(v) + \" WHERE execution_Time = \" + str((exec_time-datetime.datetime(1970,1,1)).total_seconds(),) + \";\")\n",
    "        \n",
    "repeat_query()"
   ]
  },
  {
   "cell_type": "code",
   "execution_count": null,
   "metadata": {
    "collapsed": false
   },
   "outputs": [],
   "source": []
  },
  {
   "cell_type": "code",
   "execution_count": 1,
   "metadata": {
    "collapsed": false
   },
   "outputs": [],
   "source": []
  },
  {
   "cell_type": "code",
   "execution_count": null,
   "metadata": {
    "collapsed": false
   },
   "outputs": [],
   "source": []
  },
  {
   "cell_type": "code",
   "execution_count": null,
   "metadata": {
    "collapsed": true
   },
   "outputs": [],
   "source": []
  }
 ],
 "metadata": {
  "kernelspec": {
   "display_name": "Python 2",
   "language": "python",
   "name": "python2"
  },
  "language_info": {
   "codemirror_mode": {
    "name": "ipython",
    "version": 2
   },
   "file_extension": ".py",
   "mimetype": "text/x-python",
   "name": "python",
   "nbconvert_exporter": "python",
   "pygments_lexer": "ipython2",
   "version": "2.7.10"
  }
 },
 "nbformat": 4,
 "nbformat_minor": 0
}
